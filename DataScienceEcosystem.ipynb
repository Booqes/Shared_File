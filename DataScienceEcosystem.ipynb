{
 "cells": [
  {
   "cell_type": "markdown",
   "id": "2b293928",
   "metadata": {},
   "source": [
    "# Data Science Tools and Ecosystem"
   ]
  },
  {
   "cell_type": "markdown",
   "id": "e2e8b7fc",
   "metadata": {},
   "source": [
    "## Introduction\n",
    "This notebook is basically about the use of markdown and codes."
   ]
  },
  {
   "cell_type": "markdown",
   "id": "8ce1be1d",
   "metadata": {},
   "source": [
    "## **Objectives:**\n",
    "+ Create a Jupyter Notebook\n",
    "\n",
    "+ Insert code and markdown cells\n",
    "\n",
    "+ Share your notebook through GitHub \n"
   ]
  },
  {
   "cell_type": "markdown",
   "id": "f5b649c1",
   "metadata": {},
   "source": [
    "## List of Data Science Languages\n",
    "Some of the popular languages that Data Scientists use are:\n"
   ]
  },
  {
   "cell_type": "markdown",
   "id": "611b4e2b",
   "metadata": {},
   "source": [
    "<ol>\n",
    "<li> Python\n",
    "<li> R\n",
    "<li> SQL\n",
    "</ol>"
   ]
  },
  {
   "cell_type": "markdown",
   "id": "b39dda64",
   "metadata": {},
   "source": [
    "\n",
    "## List of Data Sccience Libraries\n",
    "Some of the commonly used libraries used by Data Scientists include:\n",
    "<ol>\n",
    "    <li> Pandas\n",
    "    <li> NumPy\n",
    "    <li> SciPy    \n",
    "    <li> matplotlib         "
   ]
  },
  {
   "cell_type": "markdown",
   "id": "83bbed19",
   "metadata": {},
   "source": [
    "## Table of Data Science Tools\n",
    "Tools|\n",
    "-----|\n",
    "Python|\n",
    "R     |\n",
    "SQL   |\n"
   ]
  },
  {
   "cell_type": "markdown",
   "id": "7a1e2b94",
   "metadata": {},
   "source": [
    "## Introducing Arithmetic Expression Fxamples\n",
    "Below are a few examples of evaluating arithmetic expressions in Python"
   ]
  },
  {
   "cell_type": "code",
   "execution_count": 3,
   "id": "817ef542",
   "metadata": {},
   "outputs": [
    {
     "data": {
      "text/plain": [
       "17"
      ]
     },
     "execution_count": 3,
     "metadata": {},
     "output_type": "execute_result"
    }
   ],
   "source": [
    "# This a simple arithmetic expression to mutiply then add integers.\n",
    "(3*4)+5"
   ]
  },
  {
   "cell_type": "code",
   "execution_count": 4,
   "id": "2c142fd1",
   "metadata": {},
   "outputs": [
    {
     "name": "stdout",
     "output_type": "stream",
     "text": [
      "200 minutes value in hours: 3\n"
     ]
    }
   ],
   "source": [
    "# This will convert 200 minutes to hours by diving by 60. For eample, 200 minutes\n",
    "hour = 200 // 60\n",
    "print(\"200 minutes value in hours:\",hour)"
   ]
  },
  {
   "cell_type": "markdown",
   "id": "fb44f3d4",
   "metadata": {},
   "source": [
    "## Author\n",
    "Olubukola Jaji"
   ]
  }
 ],
 "metadata": {
  "kernelspec": {
   "display_name": "Python 3 (ipykernel)",
   "language": "python",
   "name": "python3"
  },
  "language_info": {
   "codemirror_mode": {
    "name": "ipython",
    "version": 3
   },
   "file_extension": ".py",
   "mimetype": "text/x-python",
   "name": "python",
   "nbconvert_exporter": "python",
   "pygments_lexer": "ipython3",
   "version": "3.9.12"
  }
 },
 "nbformat": 4,
 "nbformat_minor": 5
}
